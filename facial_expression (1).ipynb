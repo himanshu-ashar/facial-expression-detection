{
  "nbformat": 4,
  "nbformat_minor": 0,
  "metadata": {
    "kernelspec": {
      "display_name": "Python 3",
      "language": "python",
      "name": "python3"
    },
    "language_info": {
      "codemirror_mode": {
        "name": "ipython",
        "version": 3
      },
      "file_extension": ".py",
      "mimetype": "text/x-python",
      "name": "python",
      "nbconvert_exporter": "python",
      "pygments_lexer": "ipython3",
      "version": "3.7.3"
    },
    "colab": {
      "name": "facial_expression.ipynb",
      "provenance": [],
      "collapsed_sections": []
    },
    "accelerator": "GPU"
  },
  "cells": [
    {
      "cell_type": "code",
      "metadata": {
        "id": "ct8WoWXZhlyg",
        "outputId": "04811731-8e3c-4b34-96e9-4e5819bf8cf8",
        "colab": {
          "base_uri": "https://localhost:8080/",
          "height": 35
        }
      },
      "source": [
        "from google.colab import drive\n",
        "drive.mount('/content/drive')"
      ],
      "execution_count": null,
      "outputs": [
        {
          "output_type": "stream",
          "text": [
            "Mounted at /content/drive\n"
          ],
          "name": "stdout"
        }
      ]
    },
    {
      "cell_type": "code",
      "metadata": {
        "id": "dHD95QNBh22H"
      },
      "source": [
        "#!unzip \"/content/drive/My Drive/facial-expression-dataset.zip\" -d \"/content/drive/My Drive/facial-expression-dataset/\""
      ],
      "execution_count": null,
      "outputs": []
    },
    {
      "cell_type": "code",
      "metadata": {
        "id": "XpFlj2rCga8a"
      },
      "source": [
        "import numpy as np\n",
        "import os"
      ],
      "execution_count": null,
      "outputs": []
    },
    {
      "cell_type": "code",
      "metadata": {
        "id": "l8cM_fHOga8d"
      },
      "source": [
        "from tensorflow.keras.preprocessing.image import ImageDataGenerator\n",
        "from tensorflow.keras.layers import Dense, Input, Dropout, Flatten, Conv2D, BatchNormalization, Activation, MaxPooling2D\n",
        "from tensorflow.keras.models import Model, Sequential\n",
        "from tensorflow.keras.optimizers import Adam\n",
        "from tensorflow.keras.callbacks import ModelCheckpoint, ReduceLROnPlateau\n",
        "from tensorflow.keras.utils import plot_model\n",
        "import tensorflow as tf"
      ],
      "execution_count": null,
      "outputs": []
    },
    {
      "cell_type": "code",
      "metadata": {
        "id": "XGA6TbLoga8g",
        "outputId": "1f310c45-3d46-4c73-d67f-7fd73d24e921",
        "colab": {
          "base_uri": "https://localhost:8080/",
          "height": 35
        }
      },
      "source": [
        "print(tf.__version__)"
      ],
      "execution_count": null,
      "outputs": [
        {
          "output_type": "stream",
          "text": [
            "2.3.0\n"
          ],
          "name": "stdout"
        }
      ]
    },
    {
      "cell_type": "code",
      "metadata": {
        "id": "FhVXVO8cga8n",
        "outputId": "9973e5cc-0667-41fb-9bcb-23d1840095af",
        "colab": {
          "base_uri": "https://localhost:8080/",
          "height": 126
        }
      },
      "source": [
        "for expression in os.listdir('/content/drive/My Drive/facial-expression-dataset/facial-expression-dataset/'):\n",
        "    print(str(len(os.listdir('/content/drive/My Drive/facial-expression-dataset/facial-expression-dataset/'+expression))) + \" \" + expression + \" images\")"
      ],
      "execution_count": null,
      "outputs": [
        {
          "output_type": "stream",
          "text": [
            "5121 fear images\n",
            "8988 happy images\n",
            "6198 neutral images\n",
            "6077 sad images\n",
            "4002 surprise images\n",
            "4953 angry images\n"
          ],
          "name": "stdout"
        }
      ]
    },
    {
      "cell_type": "code",
      "metadata": {
        "id": "deCePLoKlv3X",
        "outputId": "ab3b11c8-19af-433c-f88b-92b5fcda4844",
        "colab": {
          "base_uri": "https://localhost:8080/",
          "height": 54
        }
      },
      "source": [
        "img_size = 48\n",
        "batch_size=16\n",
        "\n",
        "train_datagen = ImageDataGenerator(\n",
        "    horizontal_flip=True,\n",
        "    validation_split=0.2) # set validation split\n",
        "\n",
        "train_gen = train_datagen.flow_from_directory(\n",
        "    \"/content/drive/My Drive/facial-expression-dataset/facial-expression-dataset/\",\n",
        "    target_size=(img_size, img_size),\n",
        "    batch_size=batch_size,\n",
        "    color_mode = 'grayscale',\n",
        "    subset='training') # set as training data\n",
        "\n",
        "val_gen = train_datagen.flow_from_directory(\n",
        "    \"/content/drive/My Drive/facial-expression-dataset/facial-expression-dataset/\", # same directory as training data\n",
        "    target_size=(img_size, img_size),\n",
        "    batch_size=batch_size,\n",
        "    color_mode = 'grayscale',\n",
        "    subset='validation')"
      ],
      "execution_count": null,
      "outputs": [
        {
          "output_type": "stream",
          "text": [
            "Found 28274 images belonging to 6 classes.\n",
            "Found 7065 images belonging to 6 classes.\n"
          ],
          "name": "stdout"
        }
      ]
    },
    {
      "cell_type": "code",
      "metadata": {
        "id": "hI4uZum3tydq"
      },
      "source": [
        "from tensorflow.keras import callbacks"
      ],
      "execution_count": null,
      "outputs": []
    },
    {
      "cell_type": "code",
      "metadata": {
        "id": "GiPZes_2tZny"
      },
      "source": [
        "class CustomSaver(callbacks.Callback):\n",
        "    def on_epoch_end(self, epoch, logs=None):\n",
        "        if epoch == 19 or epoch==39 or epoch==59 or epoch==79 or epoch==99:  # or save after some epoch, each k-th epoch etc.\n",
        "            count = epoch+1\n",
        "            self.model.save(\"/content/drive/My Drive/facial_expression_model/model_epoch_{}_loss_{}.h5\".format(count, logs[\"loss\"]))\n",
        "            print(\"\\nEpoch {} over. Saving model\".format(count))\n",
        "\n",
        "model_saver = CustomSaver()"
      ],
      "execution_count": null,
      "outputs": []
    },
    {
      "cell_type": "code",
      "metadata": {
        "id": "hUgFMTQg4E42"
      },
      "source": [
        ""
      ],
      "execution_count": null,
      "outputs": []
    },
    {
      "cell_type": "code",
      "metadata": {
        "id": "oGAmbTTcga8s",
        "outputId": "c0522621-db7c-4ca5-b554-f2fc6d889220",
        "colab": {
          "base_uri": "https://localhost:8080/",
          "height": 72
        }
      },
      "source": [
        "##create model\n",
        "#conv2d layer 1\n",
        "img_input = Input(shape=(48,48,1))\n",
        "X = Conv2D(filters=64, kernel_size=(3,3), padding='same')(img_input)\n",
        "print(X.shape)\n",
        "X = BatchNormalization()(X)\n",
        "print(X.shape)\n",
        "X = Activation('relu')(X)\n",
        "X = MaxPooling2D(pool_size=(2,2))(X)\n",
        "print(X.shape)\n",
        "X = Dropout(rate=0.25)(X)"
      ],
      "execution_count": null,
      "outputs": [
        {
          "output_type": "stream",
          "text": [
            "(None, 48, 48, 64)\n",
            "(None, 48, 48, 64)\n",
            "(None, 24, 24, 64)\n"
          ],
          "name": "stdout"
        }
      ]
    },
    {
      "cell_type": "code",
      "metadata": {
        "id": "DxjsdfW4ga8v",
        "outputId": "f87c74b0-4ddc-4ae7-e61b-aa19f29b7b5f",
        "colab": {
          "base_uri": "https://localhost:8080/",
          "height": 72
        }
      },
      "source": [
        "#conv2d layer 2\n",
        "X = Conv2D(filters=128, kernel_size=(5,5), padding='same')(X)\n",
        "print(X.shape)\n",
        "X = BatchNormalization()(X)\n",
        "print(X.shape)\n",
        "X = Activation('relu')(X)\n",
        "X = MaxPooling2D(pool_size=(2,2))(X)\n",
        "print(X.shape)\n",
        "X = Dropout(rate=0.2)(X)"
      ],
      "execution_count": null,
      "outputs": [
        {
          "output_type": "stream",
          "text": [
            "(None, 24, 24, 128)\n",
            "(None, 24, 24, 128)\n",
            "(None, 12, 12, 128)\n"
          ],
          "name": "stdout"
        }
      ]
    },
    {
      "cell_type": "code",
      "metadata": {
        "id": "YjcnKYiIga8x",
        "outputId": "c99bdedd-2e17-44e4-d8be-377c46304e13",
        "colab": {
          "base_uri": "https://localhost:8080/",
          "height": 126
        }
      },
      "source": [
        "#conv2d layer 3\n",
        "X = Conv2D(filters=512, kernel_size=(3,3), padding='same')(X)\n",
        "print(X.shape)\n",
        "X = BatchNormalization()(X)\n",
        "print(X.shape)\n",
        "X = Activation('relu')(X)\n",
        "X = MaxPooling2D(pool_size=(2,2))(X)\n",
        "print(X.shape)\n",
        "X = Dropout(rate=0.2)(X)\n",
        "\n",
        "#conv2d layer 4\n",
        "X = Conv2D(filters=512, kernel_size=(3,3), padding='same')(X)\n",
        "print(X.shape)\n",
        "X = BatchNormalization()(X)\n",
        "print(X.shape)\n",
        "X = Activation('relu')(X)\n",
        "X = MaxPooling2D(pool_size=(2,2))(X)\n",
        "print(X.shape)\n",
        "X = Dropout(rate=0.25)(X)"
      ],
      "execution_count": null,
      "outputs": [
        {
          "output_type": "stream",
          "text": [
            "(None, 12, 12, 512)\n",
            "(None, 12, 12, 512)\n",
            "(None, 6, 6, 512)\n",
            "(None, 6, 6, 512)\n",
            "(None, 6, 6, 512)\n",
            "(None, 3, 3, 512)\n"
          ],
          "name": "stdout"
        }
      ]
    },
    {
      "cell_type": "code",
      "metadata": {
        "id": "jpwZcLM8ga8z",
        "outputId": "074a603c-b93d-4e67-f4ed-0421908030fd",
        "colab": {
          "base_uri": "https://localhost:8080/",
          "height": 72
        }
      },
      "source": [
        "#flatten\n",
        "X = Flatten()(X)\n",
        "print(X.shape)\n",
        "#Dense layer 1\n",
        "X = Dense(256)(X)\n",
        "print(X.shape)\n",
        "X = BatchNormalization()(X)\n",
        "X = Activation('relu')(X)\n",
        "X = Dropout(rate=0.2)(X)\n",
        "\n",
        "#Dense layer 2\n",
        "X = Dense(512)(X)\n",
        "print(X.shape)\n",
        "X = BatchNormalization()(X)\n",
        "X = Activation('relu')(X)\n",
        "X = Dropout(rate=0.2)(X)\n",
        "\n",
        "output = Dense(6, activation='softmax')(X)\n",
        "\n",
        "model = Model(img_input, output)\n",
        "model.compile(\n",
        "  loss='categorical_crossentropy',\n",
        "  optimizer='adam',\n",
        "  metrics=['accuracy'],\n",
        ")"
      ],
      "execution_count": null,
      "outputs": [
        {
          "output_type": "stream",
          "text": [
            "(None, 4608)\n",
            "(None, 256)\n",
            "(None, 512)\n"
          ],
          "name": "stdout"
        }
      ]
    },
    {
      "cell_type": "code",
      "metadata": {
        "id": "fMqV-dq5ga81",
        "outputId": "9d32318f-97cc-4c2a-9892-515e7860fff3",
        "colab": {
          "base_uri": "https://localhost:8080/",
          "height": 1000
        }
      },
      "source": [
        "model.summary()"
      ],
      "execution_count": null,
      "outputs": [
        {
          "output_type": "stream",
          "text": [
            "Model: \"functional_1\"\n",
            "_________________________________________________________________\n",
            "Layer (type)                 Output Shape              Param #   \n",
            "=================================================================\n",
            "input_1 (InputLayer)         [(None, 48, 48, 1)]       0         \n",
            "_________________________________________________________________\n",
            "conv2d (Conv2D)              (None, 48, 48, 64)        640       \n",
            "_________________________________________________________________\n",
            "batch_normalization (BatchNo (None, 48, 48, 64)        256       \n",
            "_________________________________________________________________\n",
            "activation (Activation)      (None, 48, 48, 64)        0         \n",
            "_________________________________________________________________\n",
            "max_pooling2d (MaxPooling2D) (None, 24, 24, 64)        0         \n",
            "_________________________________________________________________\n",
            "dropout (Dropout)            (None, 24, 24, 64)        0         \n",
            "_________________________________________________________________\n",
            "conv2d_1 (Conv2D)            (None, 24, 24, 128)       204928    \n",
            "_________________________________________________________________\n",
            "batch_normalization_1 (Batch (None, 24, 24, 128)       512       \n",
            "_________________________________________________________________\n",
            "activation_1 (Activation)    (None, 24, 24, 128)       0         \n",
            "_________________________________________________________________\n",
            "max_pooling2d_1 (MaxPooling2 (None, 12, 12, 128)       0         \n",
            "_________________________________________________________________\n",
            "dropout_1 (Dropout)          (None, 12, 12, 128)       0         \n",
            "_________________________________________________________________\n",
            "conv2d_2 (Conv2D)            (None, 12, 12, 512)       590336    \n",
            "_________________________________________________________________\n",
            "batch_normalization_2 (Batch (None, 12, 12, 512)       2048      \n",
            "_________________________________________________________________\n",
            "activation_2 (Activation)    (None, 12, 12, 512)       0         \n",
            "_________________________________________________________________\n",
            "max_pooling2d_2 (MaxPooling2 (None, 6, 6, 512)         0         \n",
            "_________________________________________________________________\n",
            "dropout_2 (Dropout)          (None, 6, 6, 512)         0         \n",
            "_________________________________________________________________\n",
            "conv2d_3 (Conv2D)            (None, 6, 6, 512)         2359808   \n",
            "_________________________________________________________________\n",
            "batch_normalization_3 (Batch (None, 6, 6, 512)         2048      \n",
            "_________________________________________________________________\n",
            "activation_3 (Activation)    (None, 6, 6, 512)         0         \n",
            "_________________________________________________________________\n",
            "max_pooling2d_3 (MaxPooling2 (None, 3, 3, 512)         0         \n",
            "_________________________________________________________________\n",
            "dropout_3 (Dropout)          (None, 3, 3, 512)         0         \n",
            "_________________________________________________________________\n",
            "flatten (Flatten)            (None, 4608)              0         \n",
            "_________________________________________________________________\n",
            "dense (Dense)                (None, 256)               1179904   \n",
            "_________________________________________________________________\n",
            "batch_normalization_4 (Batch (None, 256)               1024      \n",
            "_________________________________________________________________\n",
            "activation_4 (Activation)    (None, 256)               0         \n",
            "_________________________________________________________________\n",
            "dropout_4 (Dropout)          (None, 256)               0         \n",
            "_________________________________________________________________\n",
            "dense_1 (Dense)              (None, 512)               131584    \n",
            "_________________________________________________________________\n",
            "batch_normalization_5 (Batch (None, 512)               2048      \n",
            "_________________________________________________________________\n",
            "activation_5 (Activation)    (None, 512)               0         \n",
            "_________________________________________________________________\n",
            "dropout_5 (Dropout)          (None, 512)               0         \n",
            "_________________________________________________________________\n",
            "dense_2 (Dense)              (None, 6)                 3078      \n",
            "=================================================================\n",
            "Total params: 4,478,214\n",
            "Trainable params: 4,474,246\n",
            "Non-trainable params: 3,968\n",
            "_________________________________________________________________\n"
          ],
          "name": "stdout"
        }
      ]
    },
    {
      "cell_type": "code",
      "metadata": {
        "id": "gbiNaOZZga84",
        "outputId": "243a58ec-43be-4f31-b872-fde0e9c38254",
        "colab": {
          "base_uri": "https://localhost:8080/",
          "height": 54
        }
      },
      "source": [
        "r = model.fit(\n",
        "  train_gen,\n",
        "  validation_data=val_gen,\n",
        "  epochs=100,\n",
        "  callbacks = [model_saver]\n",
        ")"
      ],
      "execution_count": null,
      "outputs": [
        {
          "output_type": "stream",
          "text": [
            "Epoch 1/100\n",
            "1022/1768 [================>.............] - ETA: 1:13:08 - loss: 1.7377 - accuracy: 0.3122"
          ],
          "name": "stdout"
        }
      ]
    },
    {
      "cell_type": "code",
      "metadata": {
        "id": "2rxpRrgLga86"
      },
      "source": [
        ""
      ],
      "execution_count": null,
      "outputs": []
    }
  ]
}